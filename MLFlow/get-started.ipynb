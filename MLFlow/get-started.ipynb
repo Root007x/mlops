{
 "cells": [
  {
   "cell_type": "markdown",
   "id": "fe3d7b8c",
   "metadata": {},
   "source": [
    "  #### MLFLow Tracking Server"
   ]
  },
  {
   "cell_type": "code",
   "execution_count": 5,
   "id": "73bb10c0",
   "metadata": {},
   "outputs": [],
   "source": [
    "import mlflow"
   ]
  },
  {
   "cell_type": "code",
   "execution_count": 6,
   "id": "cb0cccfd",
   "metadata": {},
   "outputs": [],
   "source": [
    "mlflow.set_tracking_uri(\"http://127.0.0.1:5000\") # MLflow server"
   ]
  },
  {
   "cell_type": "code",
   "execution_count": 7,
   "id": "de604793",
   "metadata": {},
   "outputs": [
    {
     "name": "stderr",
     "output_type": "stream",
     "text": [
      "2025/05/12 00:08:28 INFO mlflow.tracking.fluent: Experiment with name 'Check localhost connection' does not exist. Creating a new experiment.\n"
     ]
    },
    {
     "name": "stdout",
     "output_type": "stream",
     "text": [
      "🏃 View run colorful-koi-828 at: http://127.0.0.1:5000/#/experiments/652220030326347259/runs/356cc81e16804725858d606cb91a3e7c\n",
      "🧪 View experiment at: http://127.0.0.1:5000/#/experiments/652220030326347259\n"
     ]
    }
   ],
   "source": [
    "mlflow.set_experiment(\"Check localhost connection\")\n",
    "\n",
    "with mlflow.start_run():\n",
    "    mlflow.log_metric(\"test\",1)\n",
    "    mlflow.log_metric(\"Mahadi\",2)"
   ]
  },
  {
   "cell_type": "code",
   "execution_count": 8,
   "id": "3559e4a9",
   "metadata": {},
   "outputs": [
    {
     "name": "stdout",
     "output_type": "stream",
     "text": [
      "🏃 View run bustling-carp-176 at: http://127.0.0.1:5000/#/experiments/652220030326347259/runs/e08f82f960ab4a2b9d8e59c6e2be8014\n",
      "🧪 View experiment at: http://127.0.0.1:5000/#/experiments/652220030326347259\n"
     ]
    }
   ],
   "source": [
    "with mlflow.start_run():\n",
    "    mlflow.log_metric(\"test1\",1)\n",
    "    mlflow.log_metric(\"Mahadi1\",2)"
   ]
  },
  {
   "cell_type": "code",
   "execution_count": null,
   "id": "218a28bf",
   "metadata": {},
   "outputs": [],
   "source": []
  }
 ],
 "metadata": {
  "kernelspec": {
   "display_name": "Python 3",
   "language": "python",
   "name": "python3"
  },
  "language_info": {
   "codemirror_mode": {
    "name": "ipython",
    "version": 3
   },
   "file_extension": ".py",
   "mimetype": "text/x-python",
   "name": "python",
   "nbconvert_exporter": "python",
   "pygments_lexer": "ipython3",
   "version": "3.13.2"
  }
 },
 "nbformat": 4,
 "nbformat_minor": 5
}
